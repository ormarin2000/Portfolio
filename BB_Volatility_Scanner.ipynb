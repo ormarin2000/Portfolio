{
  "nbformat": 4,
  "nbformat_minor": 0,
  "metadata": {
    "colab": {
      "provenance": [],
      "authorship_tag": "ABX9TyMneTQivu+/DupwVr4W3RoR",
      "include_colab_link": true
    },
    "kernelspec": {
      "name": "python3",
      "display_name": "Python 3"
    },
    "language_info": {
      "name": "python"
    }
  },
  "cells": [
    {
      "cell_type": "markdown",
      "metadata": {
        "id": "view-in-github",
        "colab_type": "text"
      },
      "source": [
        "<a href=\"https://colab.research.google.com/github/ormarin2000/Portfolio/blob/main/BB_Volatility_Scanner.ipynb\" target=\"_parent\"><img src=\"https://colab.research.google.com/assets/colab-badge.svg\" alt=\"Open In Colab\"/></a>"
      ]
    },
    {
      "cell_type": "code",
      "source": [
        "# Install necessary libraries\n",
        "# Done in colab\n",
        "!pip install ta"
      ],
      "metadata": {
        "colab": {
          "base_uri": "https://localhost:8080/"
        },
        "id": "_1CEbPCNDXe2",
        "outputId": "4ee2fb2f-fd81-4945-eecc-b5549c66e4a9"
      },
      "execution_count": null,
      "outputs": [
        {
          "output_type": "stream",
          "name": "stdout",
          "text": [
            "Requirement already satisfied: ta in /usr/local/lib/python3.10/dist-packages (0.11.0)\n",
            "Requirement already satisfied: numpy in /usr/local/lib/python3.10/dist-packages (from ta) (1.25.2)\n",
            "Requirement already satisfied: pandas in /usr/local/lib/python3.10/dist-packages (from ta) (2.0.3)\n",
            "Requirement already satisfied: python-dateutil>=2.8.2 in /usr/local/lib/python3.10/dist-packages (from pandas->ta) (2.8.2)\n",
            "Requirement already satisfied: pytz>=2020.1 in /usr/local/lib/python3.10/dist-packages (from pandas->ta) (2023.4)\n",
            "Requirement already satisfied: tzdata>=2022.1 in /usr/local/lib/python3.10/dist-packages (from pandas->ta) (2024.1)\n",
            "Requirement already satisfied: six>=1.5 in /usr/local/lib/python3.10/dist-packages (from python-dateutil>=2.8.2->pandas->ta) (1.16.0)\n"
          ]
        }
      ]
    },
    {
      "cell_type": "code",
      "execution_count": null,
      "metadata": {
        "id": "mUumvy_ZCyeg"
      },
      "outputs": [],
      "source": [
        "# Import libraries\n",
        "import pandas as pd\n",
        "import numpy as np\n",
        "from ta import add_all_ta_features\n",
        "import yfinance as yf\n",
        "from ta.volatility import BollingerBands"
      ]
    },
    {
      "cell_type": "code",
      "source": [
        "# We will scan just for stocks in the S&P500\n",
        "# Get tickers in the S&P500\n",
        "tnames = pd.read_html(\n",
        "    'https://en.wikipedia.org/wiki/List_of_S%26P_500_companies')[0]\n",
        "tickers_names = tnames.Symbol.to_list()\n",
        "tickers_names.sort()\n",
        "# We change the format to be compatible\n",
        "tickers_names[tickers_names.index('BF.B')] = 'BF-B'\n",
        "tickers_names[tickers_names.index('BRK.B')] = 'BRK-B'"
      ],
      "metadata": {
        "id": "wAxF30kaD9x8"
      },
      "execution_count": null,
      "outputs": []
    },
    {
      "cell_type": "code",
      "source": [
        "# Original scanner, tends to not return many tickers because of the amount of conditions.\n",
        "# Conditions:\n",
        "# Bands width under 5% of its 6-month low\n",
        "# Bands range under 5% of its 6-month low\n",
        "# Volume within 5% or more of its 6-month high\n",
        "# Upper or lower cross depending on the position\n",
        "# 52-week support or resistance break depending on the position\n",
        "\n",
        "long_scanner = []\n",
        "short_scanner = []\n",
        "for i in tickers_names:\n",
        "\n",
        "  # Get the data for tickers from yahoo finance\n",
        "  ticker = yf.download(i , start = '2014-03-31', auto_adjust= True, interval = '1wk', progress = False)\n",
        "  pd.DataFrame(ticker)\n",
        "\n",
        "  # Initialize bollinger bands indicator\n",
        "  indicator_bb = BollingerBands(close=ticker.Close, window=20, window_dev=2)\n",
        "  # Add Bollinger bands features\n",
        "  ticker['bb_bbm'] = indicator_bb.bollinger_mavg()\n",
        "  ticker['bb_bbh'] = indicator_bb.bollinger_hband()\n",
        "  ticker['bb_bbl'] = indicator_bb.bollinger_lband()\n",
        "\n",
        "  # Bollinger band width\n",
        "  ticker['bbw'] = (ticker.bb_bbh-ticker.bb_bbl)/ticker.bb_bbm\n",
        "  ticker['bbw_lowest_six_months'] = ticker.bbw.rolling(26).min()\n",
        "  # 5% for 95% confidence interval\n",
        "  ticker['six_month_low_distance_checker'] = ticker.bbw < (ticker.bbw_lowest_six_months*1.05)\n",
        "  # Add NaN where it corresponds instead of just False\n",
        "  ticker.loc[(ticker.bbw.isnull()) | (ticker.bbw_lowest_six_months.isnull()), 'six_month_low_distance_checker'] = np.nan\n",
        "\n",
        "  # Top and bottom bollinger bands range\n",
        "  ticker['range'] = ticker.bb_bbh - ticker.bb_bbl\n",
        "  # Average of last 6 months\n",
        "  ticker['range_lowest'] = ticker.range.rolling(26).min()\n",
        "  # Less than 50% of average 6-month range\n",
        "  ticker['six_month_range_low_checker'] = ticker.range < (ticker.range_lowest*1.05)\n",
        "  # Add NaN where it corresponds instead of just False\n",
        "  ticker.loc[(ticker.range.isnull()) | (ticker.range_lowest.isnull()), 'six_month_range_low_checker'] = np.nan\n",
        "\n",
        "  # Six-month volume\n",
        "  ticker['volume_max_six_months'] = ticker.Volume.rolling(26).max()\n",
        "  ticker['six_month_max_volume_checker'] = ticker.Volume > (ticker.volume_max_six_months*0.95)\n",
        "  # Add NaN where it corresponds instead of just False\n",
        "  ticker.loc[(ticker.volume_max_six_months.isnull()), 'six_month_max_volume_checker'] = np.nan\n",
        "\n",
        "  # Bollinger cross\n",
        "  ticker['upper_cross'] = ticker.Close > ticker.bb_bbh\n",
        "  ticker['lower_cross'] = ticker.Close < ticker.bb_bbl\n",
        "  # Add NaN where it corresponds instead of just False\n",
        "  ticker.loc[(ticker.bb_bbh.isnull()), 'upper_cross'] = np.nan\n",
        "  ticker.loc[(ticker.bb_bbl.isnull()), 'lower_cross'] = np.nan\n",
        "\n",
        "  # Support and resistance break\n",
        "  # 52-week support and resistance\n",
        "  ticker['support'] = ticker.Close.rolling(52).max()\n",
        "  ticker['resistance'] = ticker.Close.rolling(52).min()\n",
        "  ticker['support_break'] = ((ticker.Close.shift(1) > ticker.support.shift(1)) & (ticker.Close < ticker.support))\n",
        "  ticker['resistance_break'] = ((ticker.Close.shift(1) < ticker.resistance.shift(1)) & (ticker.Close > ticker.resistance))\n",
        "  # Add NaN where it corresponds instead of just False\n",
        "  ticker.loc[(ticker.support.isnull()), 'support_break'] = np.nan\n",
        "  ticker.loc[(ticker.resistance.isnull()), 'resistance_break'] = np.nan\n",
        "\n",
        "  # Signals\n",
        "  ticker['long_signal'] = ticker.six_month_low_distance_checker & ticker.six_month_range_low_checker \\\n",
        "  & ticker.six_month_max_volume_checker & ticker.upper_cross & ticker.resistance_break\n",
        "  ticker['short_signal'] = ticker.six_month_low_distance_checker & ticker.six_month_range_low_checker \\\n",
        "  & ticker.six_month_max_volume_checker & ticker.lower_cross & ticker.support_break\n",
        "\n",
        "  # Scanner\n",
        "  if ticker.long_signal.iloc[-1] == True:\n",
        "    long_scanner.append(i)\n",
        "  elif ticker.short_signal.iloc[-1] == True:\n",
        "    short_scanner.append(i)"
      ],
      "metadata": {
        "id": "WoXnEfQPJT6w"
      },
      "execution_count": null,
      "outputs": []
    },
    {
      "cell_type": "code",
      "source": [
        "# Visualize scanner\n",
        "while True:\n",
        "  try:\n",
        "    choose = int(input(\"\"\"\n",
        "    Long or Short Positions?\n",
        "    [1]. Long\n",
        "    [2]. Short\n",
        "    \"\"\"))\n",
        "    if choose < 1 or choose > 2:\n",
        "      raise ValueError\n",
        "    elif choose == 1:\n",
        "      print('Long stocks in the S&P500: ', long_scanner)\n",
        "    elif choose == 2:\n",
        "      print('Short stocks in the S&P500: ', short_scanner)\n",
        "    break\n",
        "  except ValueError:\n",
        "    print('Write 1 for Long Positions and 2 for Short Positions')"
      ],
      "metadata": {
        "colab": {
          "base_uri": "https://localhost:8080/"
        },
        "id": "HinLmUveeodQ",
        "outputId": "f2c79afb-82b9-480c-b6ba-394904712c4b"
      },
      "execution_count": null,
      "outputs": [
        {
          "output_type": "stream",
          "name": "stdout",
          "text": [
            "\n",
            "    Long or Short Positions?\n",
            "    [1]. Long\n",
            "    [2]. Short\n",
            "    2\n",
            "Short stocks in the S&P500:  []\n"
          ]
        }
      ]
    },
    {
      "cell_type": "code",
      "source": [
        "# Adjustment for getting a wider variety of stocks\n",
        "# Conditions:\n",
        "# Bands range under 5% of its 6-month low\n",
        "# Volume within 5% or more of its 6-month high\n",
        "# Upper or lower cross depending on the position\n",
        "# 52-week support or resistance break depending on the position\n",
        "\n",
        "long_scanner = []\n",
        "short_scanner = []\n",
        "for i in tickers_names:\n",
        "\n",
        "  # Get the data for tickers from yahoo finance\n",
        "  ticker = yf.download(i , start = '2014-03-31', auto_adjust= True, interval = '1wk', progress = False)\n",
        "  pd.DataFrame(ticker)\n",
        "\n",
        "  # Initialize bollinger bands indicator\n",
        "  indicator_bb = BollingerBands(close=ticker.Close, window=20, window_dev=2)\n",
        "  # Add bollinger bands features\n",
        "  ticker['bb_bbm'] = indicator_bb.bollinger_mavg()\n",
        "  ticker['bb_bbh'] = indicator_bb.bollinger_hband()\n",
        "  ticker['bb_bbl'] = indicator_bb.bollinger_lband()\n",
        "\n",
        "  # Bollinger band width\n",
        "  ticker['bbw'] = (ticker.bb_bbh-ticker.bb_bbl)/ticker.bb_bbm\n",
        "  ticker['bbw_lowest_six_months'] = ticker.bbw.rolling(26).min()\n",
        "  # 5% for 95% confidence interval\n",
        "  ticker['six_month_low_distance_checker'] = ticker.bbw < (ticker.bbw_lowest_six_months*1.05)\n",
        "  # Add NaN where it corresponds instead of just False\n",
        "  ticker.loc[(ticker.bbw.isnull()) | (ticker.bbw_lowest_six_months.isnull()), 'six_month_low_distance_checker'] = np.nan\n",
        "\n",
        "  # Top and bottom bollinger bands range\n",
        "  ticker['range'] = ticker.bb_bbh - ticker.bb_bbl\n",
        "  # Average of last 6 months\n",
        "  ticker['range_lowest'] = ticker.range.rolling(26).min()\n",
        "  # Less than 50% of average 6-month range\n",
        "  ticker['six_month_range_low_checker'] = ticker.range < (ticker.range_lowest*1.05)\n",
        "  # Add NaN where it corresponds instead of just False\n",
        "  ticker.loc[(ticker.range.isnull()) | (ticker.range_lowest.isnull()), 'six_month_range_low_checker'] = np.nan\n",
        "\n",
        "  # Six-month volume\n",
        "  ticker['volume_max_six_months'] = ticker.Volume.rolling(26).max()\n",
        "  ticker['six_month_max_volume_checker'] = ticker.Volume > (ticker.volume_max_six_months*0.95)\n",
        "  # Add NaN where it corresponds instead of just False\n",
        "  ticker.loc[(ticker.volume_max_six_months.isnull()), 'six_month_max_volume_checker'] = np.nan\n",
        "\n",
        "  # Bollinger cross\n",
        "  ticker['upper_cross'] = ticker.Close > ticker.bb_bbh\n",
        "  ticker['lower_cross'] = ticker.Close < ticker.bb_bbl\n",
        "  # Add NaN where it corresponds instead of just False\n",
        "  ticker.loc[(ticker.bb_bbh.isnull()), 'upper_cross'] = np.nan\n",
        "  ticker.loc[(ticker.bb_bbl.isnull()), 'lower_cross'] = np.nan\n",
        "\n",
        "  # Support and resistance break\n",
        "  # 52-week support and resistance\n",
        "  ticker['support'] = ticker.Close.rolling(52).max()\n",
        "  ticker['resistance'] = ticker.Close.rolling(52).min()\n",
        "  ticker['support_break'] = ((ticker.Close.shift(1) > ticker.support.shift(1)) & (ticker.Close < ticker.support))\n",
        "  ticker['resistance_break'] = ((ticker.Close.shift(1) < ticker.resistance.shift(1)) & (ticker.Close > ticker.resistance))\n",
        "  # Add NaN where it corresponds instead of just False\n",
        "  ticker.loc[(ticker.support.isnull()), 'support_break'] = np.nan\n",
        "  ticker.loc[(ticker.resistance.isnull()), 'resistance_break'] = np.nan\n",
        "\n",
        "  # Signals\n",
        "  ticker['long_signal'] = ticker.six_month_range_low_checker \\\n",
        "  & ticker.six_month_max_volume_checker & ticker.upper_cross & ticker.resistance_break\n",
        "  ticker['short_signal'] = ticker.six_month_range_low_checker \\\n",
        "  & ticker.six_month_max_volume_checker & ticker.lower_cross & ticker.support_break\n",
        "\n",
        "  # Scanner\n",
        "  if ticker.long_signal.iloc[-1] == True:\n",
        "    long_scanner.append(i)\n",
        "  elif ticker.short_signal.iloc[-1] == True:\n",
        "    short_scanner.append(i)"
      ],
      "metadata": {
        "id": "cv8BNQfXp7rT"
      },
      "execution_count": null,
      "outputs": []
    },
    {
      "cell_type": "code",
      "source": [
        "# Visualize scanner\n",
        "while True:\n",
        "  try:\n",
        "    choose = int(input(\"\"\"\n",
        "    Long or Short Positions?\n",
        "    [1]. Long\n",
        "    [2]. Short\n",
        "    \"\"\"))\n",
        "    if choose < 1 or choose > 2:\n",
        "      raise ValueError\n",
        "    elif choose == 1:\n",
        "      print('Long stocks in the S&P500: ', long_scanner)\n",
        "    elif choose == 2:\n",
        "      print('Short stocks in the S&P500: ', short_scanner)\n",
        "    break\n",
        "  except ValueError:\n",
        "    print('Write 1 for Long Positions and 2 for Short Positions')"
      ],
      "metadata": {
        "colab": {
          "base_uri": "https://localhost:8080/"
        },
        "id": "x8WEBCWdrUNY",
        "outputId": "80209e16-57a2-4db5-8439-83b3512364a6"
      },
      "execution_count": null,
      "outputs": [
        {
          "output_type": "stream",
          "name": "stdout",
          "text": [
            "\n",
            "    Long or Short Positions?\n",
            "    [1]. Long\n",
            "    [2]. Short\n",
            "    2\n",
            "Short stocks in the S&P500:  []\n"
          ]
        }
      ]
    },
    {
      "cell_type": "code",
      "source": [
        "# Removing support and resistance breaks\n",
        "# Conditions:\n",
        "# Bands range under 5% of its 6-month low\n",
        "# Volume within 5% or more of its 6-month high\n",
        "# Upper or lower cross depending on the position\n",
        "\n",
        "long_scanner = []\n",
        "short_scanner = []\n",
        "for i in tickers_names:\n",
        "\n",
        "  # Get the data for tickers from yahoo finance\n",
        "  ticker = yf.download(i , start = '2014-03-31', auto_adjust= True, interval = '1wk', progress = False)\n",
        "  pd.DataFrame(ticker)\n",
        "\n",
        "  # Initialize bollinger bands indicator\n",
        "  indicator_bb = BollingerBands(close=ticker.Close, window=20, window_dev=2)\n",
        "  # Add bollinger bands features\n",
        "  ticker['bb_bbm'] = indicator_bb.bollinger_mavg()\n",
        "  ticker['bb_bbh'] = indicator_bb.bollinger_hband()\n",
        "  ticker['bb_bbl'] = indicator_bb.bollinger_lband()\n",
        "\n",
        "  # Bollinger band width\n",
        "  ticker['bbw'] = (ticker.bb_bbh-ticker.bb_bbl)/ticker.bb_bbm\n",
        "  ticker['bbw_lowest_six_months'] = ticker.bbw.rolling(26).min()\n",
        "  # 5% for 95% confidence interval\n",
        "  ticker['six_month_low_distance_checker'] = ticker.bbw < (ticker.bbw_lowest_six_months*1.05)\n",
        "  # Add NaN where it corresponds instead of just False\n",
        "  ticker.loc[(ticker.bbw.isnull()) | (ticker.bbw_lowest_six_months.isnull()), 'six_month_low_distance_checker'] = np.nan\n",
        "\n",
        "  # Top and bottom bollinger bands range\n",
        "  ticker['range'] = ticker.bb_bbh - ticker.bb_bbl\n",
        "  # Average of last 6 months\n",
        "  ticker['range_lowest'] = ticker.range.rolling(26).min()\n",
        "  # Less than 50% of average 6-month range\n",
        "  ticker['six_month_range_low_checker'] = ticker.range < (ticker.range_lowest*1.05)\n",
        "  # Add NaN where it corresponds instead of just False\n",
        "  ticker.loc[(ticker.range.isnull()) | (ticker.range_lowest.isnull()), 'six_month_range_low_checker'] = np.nan\n",
        "\n",
        "  # Six-month volume\n",
        "  ticker['volume_max_six_months'] = ticker.Volume.rolling(26).max()\n",
        "  ticker['six_month_max_volume_checker'] = ticker.Volume > (ticker.volume_max_six_months*0.95)\n",
        "  # Add NaN where it corresponds instead of just False\n",
        "  ticker.loc[(ticker.volume_max_six_months.isnull()), 'six_month_max_volume_checker'] = np.nan\n",
        "\n",
        "  # Bollinger cross\n",
        "  ticker['upper_cross'] = ticker.Close > ticker.bb_bbh\n",
        "  ticker['lower_cross'] = ticker.Close < ticker.bb_bbl\n",
        "  # Add NaN where it corresponds instead of just False\n",
        "  ticker.loc[(ticker.bb_bbh.isnull()), 'upper_cross'] = np.nan\n",
        "  ticker.loc[(ticker.bb_bbl.isnull()), 'lower_cross'] = np.nan\n",
        "\n",
        "  # Support and resistance break\n",
        "  # 52-week support and resistance\n",
        "  ticker['support'] = ticker.Close.rolling(52).max()\n",
        "  ticker['resistance'] = ticker.Close.rolling(52).min()\n",
        "  ticker['support_break'] = ((ticker.Close.shift(1) > ticker.support.shift(1)) & (ticker.Close < ticker.support))\n",
        "  ticker['resistance_break'] = ((ticker.Close.shift(1) < ticker.resistance.shift(1)) & (ticker.Close > ticker.resistance))\n",
        "  # Add NaN where it corresponds instead of just False\n",
        "  ticker.loc[(ticker.support.isnull()), 'support_break'] = np.nan\n",
        "  ticker.loc[(ticker.resistance.isnull()), 'resistance_break'] = np.nan\n",
        "\n",
        "  # Signals\n",
        "  ticker['long_signal'] = ticker.six_month_range_low_checker \\\n",
        "  & ticker.six_month_max_volume_checker & ticker.upper_cross\n",
        "  ticker['short_signal'] = ticker.six_month_range_low_checker \\\n",
        "  & ticker.six_month_max_volume_checker & ticker.lower_cross\n",
        "\n",
        "  # Scanner\n",
        "  if ticker.long_signal.iloc[-1] == True:\n",
        "    long_scanner.append(i)\n",
        "  elif ticker.short_signal.iloc[-1] == True:\n",
        "    short_scanner.append(i)"
      ],
      "metadata": {
        "id": "hJ80TleosuKX"
      },
      "execution_count": null,
      "outputs": []
    },
    {
      "cell_type": "code",
      "source": [
        "# Visualize scanner\n",
        "while True:\n",
        "  try:\n",
        "    choose = int(input(\"\"\"\n",
        "    Long or Short Positions?\n",
        "    [1]. Long\n",
        "    [2]. Short\n",
        "    \"\"\"))\n",
        "    if choose < 1 or choose > 2:\n",
        "      raise ValueError\n",
        "    elif choose == 1:\n",
        "      print('Long stocks in the S&P500: ', long_scanner)\n",
        "    elif choose == 2:\n",
        "      print('Short stocks in the S&P500: ', short_scanner)\n",
        "    break\n",
        "  except ValueError:\n",
        "    print('Write 1 for Long Positions and 2 for Short Positions')"
      ],
      "metadata": {
        "colab": {
          "base_uri": "https://localhost:8080/"
        },
        "id": "bn2Xmm6ms7Np",
        "outputId": "05f78e32-8661-410c-e958-b7cd400e741b"
      },
      "execution_count": null,
      "outputs": [
        {
          "output_type": "stream",
          "name": "stdout",
          "text": [
            "\n",
            "    Long or Short Positions?\n",
            "    [1]. Long\n",
            "    [2]. Short\n",
            "    2\n",
            "Short stocks in the S&P500:  []\n"
          ]
        }
      ]
    }
  ]
}